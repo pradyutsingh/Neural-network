{
  "nbformat": 4,
  "nbformat_minor": 0,
  "metadata": {
    "colab": {
      "name": "fashionmnist.ipynb",
      "provenance": [],
      "authorship_tag": "ABX9TyM8Oadn2Qpoz61Rf4RWf6UA",
      "include_colab_link": true
    },
    "kernelspec": {
      "name": "python3",
      "display_name": "Python 3"
    }
  },
  "cells": [
    {
      "cell_type": "markdown",
      "metadata": {
        "id": "view-in-github",
        "colab_type": "text"
      },
      "source": [
        "<a href=\"https://colab.research.google.com/github/pradyutsingh/Neural-network/blob/master/fashionmnist.ipynb\" target=\"_parent\"><img src=\"https://colab.research.google.com/assets/colab-badge.svg\" alt=\"Open In Colab\"/></a>"
      ]
    },
    {
      "cell_type": "code",
      "metadata": {
        "id": "j9v6_IdfJyYk",
        "colab_type": "code",
        "colab": {}
      },
      "source": [
        "import tensorflow as tf"
      ],
      "execution_count": 13,
      "outputs": []
    },
    {
      "cell_type": "code",
      "metadata": {
        "id": "IN9xDoK1J5Kc",
        "colab_type": "code",
        "colab": {
          "base_uri": "https://localhost:8080/",
          "height": 35
        },
        "outputId": "0aadba7c-71af-411a-a428-61ce2df8564c"
      },
      "source": [
        "print(tf.__version__)"
      ],
      "execution_count": 14,
      "outputs": [
        {
          "output_type": "stream",
          "text": [
            "2.2.0\n"
          ],
          "name": "stdout"
        }
      ]
    },
    {
      "cell_type": "markdown",
      "metadata": {
        "id": "QQ63f_7CKGPb",
        "colab_type": "text"
      },
      "source": [
        "Now importing the dataset - fashion mnist"
      ]
    },
    {
      "cell_type": "code",
      "metadata": {
        "id": "DAtlKkwNKAY4",
        "colab_type": "code",
        "colab": {}
      },
      "source": [
        "import numpy as np\n",
        "import matplotlib.pyplot as plt\n",
        "mnist = tf.keras.datasets.fashion_mnist\n",
        "(training_images,training_labels),(test_images,test_labels) = mnist.load_data();\n"
      ],
      "execution_count": 15,
      "outputs": []
    },
    {
      "cell_type": "code",
      "metadata": {
        "id": "e8HFR-rNKoTr",
        "colab_type": "code",
        "colab": {
          "base_uri": "https://localhost:8080/",
          "height": 768
        },
        "outputId": "f9c8455b-61e6-4ad0-9f80-78f7d668c147"
      },
      "source": [
        "np.set_printoptions(linewidth=200)\n",
        "plt.imshow(training_images[40]);\n",
        "print(training_images[40])\n",
        "print(training_labels[40])"
      ],
      "execution_count": 16,
      "outputs": [
        {
          "output_type": "stream",
          "text": [
            "[[  0   0   0   0   0   0   0   0   1   0   0  37 192 177 171 199  27   0   0   0   1   3   0   0   0   0   0   0]\n",
            " [  0   0   0   0   0   0   9   0   0   0   0 135 230 162 155 253 164  14   0   0   0   0   3   0   0   0   0   0]\n",
            " [  0   0   0   0   1   0   0   0  64 152 232 207 195 155 157 201 227 224 221 172  94   4   0   0   0   0   0   0]\n",
            " [  0   0   0   0   0   0 112 179 205 199 192 197 216 194 192 220 210 192 191 203 207 208  62   0   1   0   0   0]\n",
            " [  0   0   0   0   0  75 208 186 178 185 172 197 213 195 200 208 199 188 187 181 180 204 192   0   0   0   0   0]\n",
            " [  0   0   0   0   0 180 190 179 185 182 184 178 166 193 185 167 187 186 184 184 192 192 223  28   0   0   0   0]\n",
            " [  0   0   0   0   0 205 190 182 182 185 182 185 181 182 180 180 185 186 182 184 201 195 219  72   0   0   0   0]\n",
            " [  0   0   0   0   0 210 186 194 181 181 182 178 180 184 182 177 179 185 184 194 211 188 218  95   0   0   0   0]\n",
            " [  0   0   0   0   0 217 179 193 193 175 175 174 178 182 184 174 177 177 186 206 208 185 219 106   0   0   0   0]\n",
            " [  0   0   0   0  14 217 175 186 206 184 173 174 177 179 180 173 174 172 194 210 203 186 214 119   0   0   0   0]\n",
            " [  0   0   0   0  35 220 170 194 213 186 181 174 177 175 181 177 178 179 199 213 217 178 214 129   0   0   0   0]\n",
            " [  0   0   0   0  49 220 171 191 198 198 179 177 175 173 178 175 175 182 192 210 186 180 208 149   0   0   0   0]\n",
            " [  0   0   0   0  70 220 173 174 103 225 175 179 175 174 180 177 179 179 204 195 112 207 198 185   0   0   0   0]\n",
            " [  0   0   0   0  77 214 179 187  41 240 179 179 177 174 180 178 180 180 216 174  61 229 194 205   0   0   0   0]\n",
            " [  0   0   0   0  94 190 184 197   0 224 186 179 177 175 179 179 184 177 223 153  33 238 188 188   0   0   0   0]\n",
            " [  0   0   0   0 110 186 194 181   0 217 192 179 179 177 178 177 184 178 229 145   0 240 186 197   0   0   0   0]\n",
            " [  0   0   0   0 114 184 197 165   0 208 198 178 180 181 184 178 184 178 226 157   0 244 184 201   4   0   0   0]\n",
            " [  0   0   0   0 103 182 195 135   0 201 192 177 180 181 187 179 184 177 221 173   0 226 186 204  30   0   0   0]\n",
            " [  0   0   0   0  95 182 194  88   0 208 191 177 180 180 181 177 182 182 208 197   0 193 193 206  48   0   0   0]\n",
            " [  0   0   0   0  93 182 198  35   0 224 188 180 180 179 184 180 184 186 192 218   0 155 197 205  62   0   0   0]\n",
            " [  0   0   0   0  87 182 195   1   0 232 184 181 180 179 184 179 180 182 186 239   0 108 198 205  74   0   0   0]\n",
            " [  0   0   0   0  80 184 224   0   0 238 180 180 180 180 181 178 180 185 184 252   0  33 201 205  83   0   0   0]\n",
            " [  0   0   0   0  75 185 223   0   3 239 179 179 180 181 185 181 182 187 182 255  16   0 237 205  90   0   0   0]\n",
            " [  0   0   0   0  67 188 204   0  14 234 179 179 179 180 187 181 179 178 181 249  46   0 225 210  94   0   0   0]\n",
            " [  0   0   0   0  66 190 160   0   5 231 180 180 178 177 180 179 181 180 180 211  50   0 175 204 114   0   0   0]\n",
            " [  0   0   0   0 103 211 167   0   0 190 181 177 173 173 173 172 174 177 179 211  23   0 166 220 129   0   0   0]\n",
            " [  0   0   0   0  62 151 142   0   0 179 194 188 219 214 208 208 210 188 201 165   0   0 121 146  89   0   0   0]\n",
            " [  0   0   0   0   0   0   0   0   0   0  30  55  81  96  90 100  89  76  41   0   0   0   0   0   0   0   0   0]]\n",
            "6\n"
          ],
          "name": "stdout"
        },
        {
          "output_type": "display_data",
          "data": {
            "image/png": "[encoded data removed]",
            "text/plain": [
              "<Figure size 432x288 with 1 Axes>"
            ]
          },
          "metadata": {
            "tags": [],
            "needs_background": "light"
          }
        }
      ]
    },
    {
      "cell_type": "code",
      "metadata": {
        "id": "-rWSjI2wfdxA",
        "colab_type": "code",
        "colab": {}
      },
      "source": [
        "training_images = training_images/255.0\n",
        "test_images = test_images/255.0"
      ],
      "execution_count": 17,
      "outputs": []
    },
    {
      "cell_type": "code",
      "metadata": {
        "id": "dENFRC2Ao-I7",
        "colab_type": "code",
        "colab": {}
      },
      "source": [
        "model = tf.keras.models.Sequential([tf.keras.layers.Flatten(),\n",
        "                                    tf.keras.layers.Dense(128,activation = tf.nn.relu),\n",
        "                                    tf.keras.layers.Dense(10,activation=tf.nn.softmax)])"
      ],
      "execution_count": 18,
      "outputs": []
    },
    {
      "cell_type": "code",
      "metadata": {
        "id": "hNq83mPor54i",
        "colab_type": "code",
        "colab": {
          "base_uri": "https://localhost:8080/",
          "height": 263
        },
        "outputId": "eb2a2334-2d0f-441c-9d96-60c6587d4c91"
      },
      "source": [
        "#now we will compile the model\n",
        "model.compile(optimizer = tf.optimizers.Adam(),\n",
        "              loss = 'sparse_categorical_crossentropy',\n",
        "              metrics=['accuracy'])\n",
        "model.fit(training_images,training_labels,epochs =6)"
      ],
      "execution_count": 20,
      "outputs": [
        {
          "output_type": "stream",
          "text": [
            "Epoch 1/6\n",
            "1875/1875 [==============================] - 4s 2ms/step - loss: 0.4966 - accuracy: 0.8265\n",
            "Epoch 2/6\n",
            "1875/1875 [==============================] - 4s 2ms/step - loss: 0.3734 - accuracy: 0.8656\n",
            "Epoch 3/6\n",
            "1875/1875 [==============================] - 4s 2ms/step - loss: 0.3353 - accuracy: 0.8765\n",
            "Epoch 4/6\n",
            "1875/1875 [==============================] - 4s 2ms/step - loss: 0.3122 - accuracy: 0.8862\n",
            "Epoch 5/6\n",
            "1875/1875 [==============================] - 4s 2ms/step - loss: 0.2923 - accuracy: 0.8922\n",
            "Epoch 6/6\n",
            "1875/1875 [==============================] - 4s 2ms/step - loss: 0.2793 - accuracy: 0.8956\n"
          ],
          "name": "stdout"
        },
        {
          "output_type": "execute_result",
          "data": {
            "text/plain": [
              "<tensorflow.python.keras.callbacks.History at 0x7f3c6ae75a58>"
            ]
          },
          "metadata": {
            "tags": []
          },
          "execution_count": 20
        }
      ]
    },
    {
      "cell_type": "code",
      "metadata": {
        "id": "M6N_RZtg1Po-",
        "colab_type": "code",
        "colab": {
          "base_uri": "https://localhost:8080/",
          "height": 72
        },
        "outputId": "76c875df-8b0c-4d89-cba8-18ac7cb32f59"
      },
      "source": [
        "model.evaluate(test_images,test_labels)"
      ],
      "execution_count": 22,
      "outputs": [
        {
          "output_type": "stream",
          "text": [
            "313/313 [==============================] - 0s 1ms/step - loss: 0.3463 - accuracy: 0.8771\n"
          ],
          "name": "stdout"
        },
        {
          "output_type": "execute_result",
          "data": {
            "text/plain": [
              "[0.3462538421154022, 0.8770999908447266]"
            ]
          },
          "metadata": {
            "tags": []
          },
          "execution_count": 22
        }
      ]
    },
    {
      "cell_type": "code",
      "metadata": {
        "id": "H8dZWfjk2eMx",
        "colab_type": "code",
        "colab": {
          "base_uri": "https://localhost:8080/",
          "height": 55
        },
        "outputId": "00ed6f0e-aed5-4615-a2c1-2f98225da27f"
      },
      "source": [
        "classifications = model.predict(test_images)\n",
        "print(classifications[0])"
      ],
      "execution_count": 23,
      "outputs": [
        {
          "output_type": "stream",
          "text": [
            "[1.32927935e-05 6.55591521e-07 6.24512069e-08 3.70436943e-08 1.39549016e-07 5.93083352e-03 2.19102071e-06 6.51860563e-03 4.93377811e-05 9.87484872e-01]\n"
          ],
          "name": "stdout"
        }
      ]
    },
    {
      "cell_type": "code",
      "metadata": {
        "id": "7Dn1VN3d2zXY",
        "colab_type": "code",
        "colab": {
          "base_uri": "https://localhost:8080/",
          "height": 35
        },
        "outputId": "0fde38b2-3e42-48a9-d110-52559c09c8f6"
      },
      "source": [
        "print(test_labels[0])"
      ],
      "execution_count": 24,
      "outputs": [
        {
          "output_type": "stream",
          "text": [
            "9\n"
          ],
          "name": "stdout"
        }
      ]
    },
    {
      "cell_type": "code",
      "metadata": {
        "id": "1fOaPBt524Wh",
        "colab_type": "code",
        "colab": {}
      },
      "source": [
        "  "
      ],
      "execution_count": null,
      "outputs": []
    }
  ]
}