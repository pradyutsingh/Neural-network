{
  "nbformat": 4,
  "nbformat_minor": 0,
  "metadata": {
    "colab": {
      "name": "ANN_mnist.ipynb",
      "provenance": [],
      "authorship_tag": "ABX9TyOpmoMWaSAon9xAUlL3Bi6W",
      "include_colab_link": true
    },
    "kernelspec": {
      "name": "python3",
      "display_name": "Python 3"
    }
  },
  "cells": [
    {
      "cell_type": "markdown",
      "metadata": {
        "id": "view-in-github",
        "colab_type": "text"
      },
      "source": [
        "<a href=\"https://colab.research.google.com/github/pradyutsingh/Neural-network/blob/master/ANN_mnist.ipynb\" target=\"_parent\"><img src=\"https://colab.research.google.com/assets/colab-badge.svg\" alt=\"Open In Colab\"/></a>"
      ]
    },
    {
      "cell_type": "code",
      "metadata": {
        "id": "W6IptvyjreA2",
        "colab_type": "code",
        "colab": {}
      },
      "source": [
        "import tensorflow as tf"
      ],
      "execution_count": 0,
      "outputs": []
    },
    {
      "cell_type": "code",
      "metadata": {
        "id": "Eu6xjqUzxlmF",
        "colab_type": "code",
        "colab": {}
      },
      "source": [
        "import numpy as np"
      ],
      "execution_count": 0,
      "outputs": []
    },
    {
      "cell_type": "code",
      "metadata": {
        "id": "WpthtOUQxq-9",
        "colab_type": "code",
        "colab": {
          "base_uri": "https://localhost:8080/",
          "height": 295
        },
        "outputId": "86e89156-a9fb-4b24-fec7-7281746d427b"
      },
      "source": [
        "from tensorflow import keras\n",
        "from tensorflow.keras import layers\n",
        "\n",
        "inputs = keras.Input(shape=(784,),name = 'digits')\n",
        "x = layers.Dense(64,activation='relu',name =\"dense_1\")(inputs)\n",
        "x = layers.Dense(64,activation='relu',name =\"dense_2\")(x)\n",
        "outputs = layers.Dense(10,name= 'prediction')(x)\n",
        "\n",
        "model = keras.Model(inputs=inputs,outputs=outputs)\n",
        "model.summary()\n",
        "\n"
      ],
      "execution_count": 6,
      "outputs": [
        {
          "output_type": "stream",
          "text": [
            "Model: \"model_1\"\n",
            "_________________________________________________________________\n",
            "Layer (type)                 Output Shape              Param #   \n",
            "=================================================================\n",
            "digits (InputLayer)          [(None, 784)]             0         \n",
            "_________________________________________________________________\n",
            "dense_1 (Dense)              (None, 64)                50240     \n",
            "_________________________________________________________________\n",
            "dense_2 (Dense)              (None, 64)                4160      \n",
            "_________________________________________________________________\n",
            "prediction (Dense)           (None, 10)                650       \n",
            "=================================================================\n",
            "Total params: 55,050\n",
            "Trainable params: 55,050\n",
            "Non-trainable params: 0\n",
            "_________________________________________________________________\n"
          ],
          "name": "stdout"
        }
      ]
    },
    {
      "cell_type": "code",
      "metadata": {
        "id": "XV0iKk_iyqq7",
        "colab_type": "code",
        "colab": {
          "base_uri": "https://localhost:8080/",
          "height": 52
        },
        "outputId": "6a45d4d1-ac72-458d-bef7-6562a65d3a70"
      },
      "source": [
        "(x_train,y_train) , (x_test,y_test) = keras.datasets.mnist.load_data()"
      ],
      "execution_count": 4,
      "outputs": [
        {
          "output_type": "stream",
          "text": [
            "Downloading data from https://storage.googleapis.com/tensorflow/tf-keras-datasets/mnist.npz\n",
            "11493376/11490434 [==============================] - 0s 0us/step\n"
          ],
          "name": "stdout"
        }
      ]
    },
    {
      "cell_type": "code",
      "metadata": {
        "id": "QyzSRRH3y2UF",
        "colab_type": "code",
        "colab": {}
      },
      "source": [
        "x_train = x_train.reshape(60000, 784).astype('float32') / 255\n",
        "x_test = x_test.reshape(10000, 784).astype('float32') / 255\n",
        "\n",
        "y_train= y_train.astype('float32')\n",
        "y_test = y_test.astype('float32')\n",
        "\n",
        "x_val = x_train[-10000:]\n",
        "y_val = y_train[-10000:]\n",
        "x_train = x_train[:-10000]\n",
        "y_train = y_train[:-10000]"
      ],
      "execution_count": 0,
      "outputs": []
    },
    {
      "cell_type": "code",
      "metadata": {
        "id": "nUnkf6Em0cHS",
        "colab_type": "code",
        "colab": {}
      },
      "source": [
        "model.compile(optimizer=keras.optimizers.RMSprop(),\n",
        "              loss=tf.keras.losses.SparseCategoricalCrossentropy(from_logits=True),\n",
        "              metrics = ['sparse_categorical_accuracy'])"
      ],
      "execution_count": 0,
      "outputs": []
    },
    {
      "cell_type": "code",
      "metadata": {
        "id": "SRQVsGFd4RFF",
        "colab_type": "code",
        "colab": {
          "base_uri": "https://localhost:8080/",
          "height": 245
        },
        "outputId": "13fd90f6-f6c4-466a-8e2e-507613a488de"
      },
      "source": [
        "print('fitting the model on the training data')\n",
        "fitmodel = model.fit(x_train,y_train,batch_size=64,epochs=5\n",
        "                     ,validation_data = (x_val,y_val))\n",
        "print(fitmodel.history)"
      ],
      "execution_count": 10,
      "outputs": [
        {
          "output_type": "stream",
          "text": [
            "fitting the model on the training data\n",
            "Epoch 1/5\n",
            "782/782 [==============================] - 2s 2ms/step - loss: 0.0909 - sparse_categorical_accuracy: 0.9731 - val_loss: 0.1033 - val_sparse_categorical_accuracy: 0.9703\n",
            "Epoch 2/5\n",
            "782/782 [==============================] - 2s 2ms/step - loss: 0.0754 - sparse_categorical_accuracy: 0.9778 - val_loss: 0.1010 - val_sparse_categorical_accuracy: 0.9691\n",
            "Epoch 3/5\n",
            "782/782 [==============================] - 2s 2ms/step - loss: 0.0650 - sparse_categorical_accuracy: 0.9805 - val_loss: 0.0901 - val_sparse_categorical_accuracy: 0.9741\n",
            "Epoch 4/5\n",
            "782/782 [==============================] - 2s 2ms/step - loss: 0.0568 - sparse_categorical_accuracy: 0.9824 - val_loss: 0.1023 - val_sparse_categorical_accuracy: 0.9735\n",
            "Epoch 5/5\n",
            "782/782 [==============================] - 2s 2ms/step - loss: 0.0499 - sparse_categorical_accuracy: 0.9847 - val_loss: 0.0962 - val_sparse_categorical_accuracy: 0.9743\n",
            "{'loss': [0.0909322053194046, 0.07539936155080795, 0.06502538919448853, 0.056810300797224045, 0.04993085563182831], 'sparse_categorical_accuracy': [0.9731199741363525, 0.977840006351471, 0.9805399775505066, 0.9824399948120117, 0.9847400188446045], 'val_loss': [0.10333367437124252, 0.10103879123926163, 0.09007745236158371, 0.10226860642433167, 0.09622511267662048], 'val_sparse_categorical_accuracy': [0.970300018787384, 0.9690999984741211, 0.9740999937057495, 0.9735000133514404, 0.9743000268936157]}\n"
          ],
          "name": "stdout"
        }
      ]
    },
    {
      "cell_type": "code",
      "metadata": {
        "id": "Upv6LDGX4z15",
        "colab_type": "code",
        "colab": {
          "base_uri": "https://localhost:8080/",
          "height": 104
        },
        "outputId": "fd76a180-8fdb-4473-aa24-01436f2d2f75"
      },
      "source": [
        "\n",
        "print('Evaluate on test data')\n",
        "results = model.evaluate(x_test, y_test, batch_size=128)\n",
        "print('test loss, test acc:', results)\n",
        "\n",
        "print('Generate predictions for 3 samples')\n",
        "predictions = model.predict(x_test[:3])\n",
        "print('predictions shape:', predictions.shape)"
      ],
      "execution_count": 11,
      "outputs": [
        {
          "output_type": "stream",
          "text": [
            "Evaluate on test data\n",
            "79/79 [==============================] - 0s 1ms/step - loss: 0.0934 - sparse_categorical_accuracy: 0.9745\n",
            "test loss, test acc: [0.09340164065361023, 0.9745000004768372]\n",
            "Generate predictions for 3 samples\n",
            "predictions shape: (3, 10)\n"
          ],
          "name": "stdout"
        }
      ]
    },
    {
      "cell_type": "code",
      "metadata": {
        "id": "pWYa__xA6Zvl",
        "colab_type": "code",
        "colab": {
          "base_uri": "https://localhost:8080/",
          "height": 121
        },
        "outputId": "17545ca3-a55c-47c8-88f1-f789ba918faf"
      },
      "source": [
        "print(predictions)"
      ],
      "execution_count": 12,
      "outputs": [
        {
          "output_type": "stream",
          "text": [
            "[[-12.982299   -8.621454   -2.4699152  -2.1807368 -15.262434  -12.388813\n",
            "  -21.705675   12.250467  -10.047829   -5.209293 ]\n",
            " [-20.297356   -6.1385894  11.573729  -12.109642  -26.736889  -16.927357\n",
            "  -15.214206  -19.369364  -11.196894  -35.77165  ]\n",
            " [-12.359396    3.6613822  -4.554193   -6.1932287  -6.9115977  -8.004379\n",
            "   -7.967775   -5.0147996  -3.1653275  -9.221668 ]]\n"
          ],
          "name": "stdout"
        }
      ]
    },
    {
      "cell_type": "code",
      "metadata": {
        "id": "bZPQbayq6dEM",
        "colab_type": "code",
        "colab": {}
      },
      "source": [
        ""
      ],
      "execution_count": 0,
      "outputs": []
    }
  ]
}