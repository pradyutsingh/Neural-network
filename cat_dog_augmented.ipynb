{
  "nbformat": 4,
  "nbformat_minor": 0,
  "metadata": {
    "colab": {
      "name": "cat_dog_augmented",
      "provenance": [],
      "collapsed_sections": [],
      "authorship_tag": "ABX9TyM8AD2O1Gnbf39Abt6E9OfM",
      "include_colab_link": true
    },
    "kernelspec": {
      "name": "python3",
      "display_name": "Python 3"
    },
    "accelerator": "GPU"
  },
  "cells": [
    {
      "cell_type": "markdown",
      "metadata": {
        "id": "view-in-github",
        "colab_type": "text"
      },
      "source": [
        "<a href=\"https://colab.research.google.com/github/pradyutsingh/Neural-network/blob/master/cat_dog_augmented.ipynb\" target=\"_parent\"><img src=\"https://colab.research.google.com/assets/colab-badge.svg\" alt=\"Open In Colab\"/></a>"
      ]
    },
    {
      "cell_type": "code",
      "metadata": {
        "id": "2Jd_DUZYBCLW",
        "colab_type": "code",
        "colab": {
          "base_uri": "https://localhost:8080/",
          "height": 208
        },
        "outputId": "8a87019d-c275-4e03-bece-1c9d374fe4a3"
      },
      "source": [
        "!wget --no-check-certificate \\\n",
        "    https://storage.googleapis.com/mledu-datasets/cats_and_dogs_filtered.zip \\\n",
        "    -O /tmp/cats_and_dogs_filtered.zip"
      ],
      "execution_count": 2,
      "outputs": [
        {
          "output_type": "stream",
          "text": [
            "--2020-06-20 20:07:45--  https://storage.googleapis.com/mledu-datasets/cats_and_dogs_filtered.zip\n",
            "Resolving storage.googleapis.com (storage.googleapis.com)... 173.194.192.128, 2607:f8b0:4001:c14::80\n",
            "Connecting to storage.googleapis.com (storage.googleapis.com)|173.194.192.128|:443... connected.\n",
            "HTTP request sent, awaiting response... 200 OK\n",
            "Length: 68606236 (65M) [application/zip]\n",
            "Saving to: ‘/tmp/cats_and_dogs_filtered.zip’\n",
            "\n",
            "/tmp/cats_and_dogs_ 100%[===================>]  65.43M   151MB/s    in 0.4s    \n",
            "\n",
            "2020-06-20 20:07:45 (151 MB/s) - ‘/tmp/cats_and_dogs_filtered.zip’ saved [68606236/68606236]\n",
            "\n"
          ],
          "name": "stdout"
        }
      ]
    },
    {
      "cell_type": "code",
      "metadata": {
        "id": "-MKlMWgbFUaP",
        "colab_type": "code",
        "colab": {}
      },
      "source": [
        "import tensorflow as tf\n",
        "import zipfile\n",
        "import os\n",
        "from tensorflow.keras.optimizers import RMSprop\n",
        "from tensorflow.keras.preprocessing.image import ImageDataGenerator\n"
      ],
      "execution_count": 3,
      "outputs": []
    },
    {
      "cell_type": "code",
      "metadata": {
        "id": "a41sLbQZFx2q",
        "colab_type": "code",
        "colab": {}
      },
      "source": [
        "local_zip = '/tmp/cats_and_dogs_filtered.zip'\n",
        "zip_ref = zipfile.ZipFile(local_zip, 'r')\n",
        "zip_ref.extractall('/tmp')\n",
        "zip_ref.close()\n",
        "\n",
        "base_dir = '/tmp/cats_and_dogs_filtered'\n",
        "train_dir = os.path.join(base_dir, 'train')\n",
        "validation_dir = os.path.join(base_dir, 'validation')\n",
        "\n",
        "# Directory with our training cat pictures\n",
        "train_cats_dir = os.path.join(train_dir, 'cats')\n",
        "\n",
        "# Directory with our training dog pictures\n",
        "train_dogs_dir = os.path.join(train_dir, 'dogs')\n",
        "\n",
        "# Directory with our validation cat pictures\n",
        "validation_cats_dir = os.path.join(validation_dir, 'cats')\n",
        "\n",
        "# Directory with our validation dog pictures\n",
        "validation_dogs_dir = os.path.join(validation_dir, 'dogs')"
      ],
      "execution_count": 4,
      "outputs": []
    },
    {
      "cell_type": "code",
      "metadata": {
        "id": "dvqImAYLGTJx",
        "colab_type": "code",
        "colab": {}
      },
      "source": [
        "model = tf.keras.models.Sequential([\n",
        "    tf.keras.layers.Conv2D(32, (3,3), activation='relu', input_shape=(150, 150, 3)),\n",
        "    tf.keras.layers.MaxPooling2D(2, 2),\n",
        "    tf.keras.layers.Conv2D(64, (3,3), activation='relu'),\n",
        "    tf.keras.layers.MaxPooling2D(2,2),\n",
        "    tf.keras.layers.Conv2D(128, (3,3), activation='relu'),\n",
        "    tf.keras.layers.MaxPooling2D(2,2),\n",
        "    tf.keras.layers.Conv2D(128, (3,3), activation='relu'),\n",
        "    tf.keras.layers.MaxPooling2D(2,2),\n",
        "    tf.keras.layers.Dropout(0.5),\n",
        "    tf.keras.layers.Flatten(),\n",
        "    tf.keras.layers.Dense(512, activation='relu'),\n",
        "    tf.keras.layers.Dense(1, activation='sigmoid')\n",
        "])"
      ],
      "execution_count": 5,
      "outputs": []
    },
    {
      "cell_type": "code",
      "metadata": {
        "id": "ROVYSId3GUxH",
        "colab_type": "code",
        "colab": {}
      },
      "source": [
        "model.compile(optimizer=RMSprop(learning_rate=1e-4),loss='binary_crossentropy',metrics=['accuracy'])"
      ],
      "execution_count": 6,
      "outputs": []
    },
    {
      "cell_type": "code",
      "metadata": {
        "id": "Jr171Ht0GlbJ",
        "colab_type": "code",
        "colab": {
          "base_uri": "https://localhost:8080/",
          "height": 52
        },
        "outputId": "98167436-8521-44fc-ee05-ebb1ee90f97e"
      },
      "source": [
        "train_gen = ImageDataGenerator(\n",
        "    rescale = 1.0/255,\n",
        "    rotation_range = 40,\n",
        "    width_shift_range = 0.2,\n",
        "    height_shift_range = 0.2,\n",
        "    shear_range= 0.2,\n",
        "    horizontal_flip = True,\n",
        "    fill_mode = 'nearest'\n",
        "\n",
        ")\n",
        "test_gen = ImageDataGenerator(rescale=1.0/255)\n",
        "\n",
        "train_generator = train_gen.flow_from_directory(\n",
        "    train_dir,\n",
        "    target_size = (150,150),\n",
        "    batch_size = 20,\n",
        "    class_mode = 'binary'\n",
        ")\n",
        "\n",
        "validation_generator = train_gen.flow_from_directory(\n",
        "    validation_dir,\n",
        "    target_size = (150,150),\n",
        "    batch_size = 20,\n",
        "    class_mode = 'binary'\n",
        "    \n",
        ")\n"
      ],
      "execution_count": 7,
      "outputs": [
        {
          "output_type": "stream",
          "text": [
            "Found 2000 images belonging to 2 classes.\n",
            "Found 1000 images belonging to 2 classes.\n"
          ],
          "name": "stdout"
        }
      ]
    },
    {
      "cell_type": "code",
      "metadata": {
        "id": "gt4Xa9u8JYo7",
        "colab_type": "code",
        "colab": {
          "base_uri": "https://localhost:8080/",
          "height": 1000
        },
        "outputId": "c4690ae6-2814-432a-8c65-6f7f83b82749"
      },
      "source": [
        "history = model.fit(\n",
        "    train_generator,\n",
        "    steps_per_epoch = 100,\n",
        "    epochs = 50,\n",
        "    validation_data = validation_generator,\n",
        "    validation_steps = 50,\n",
        "    verbose = 2\n",
        ")"
      ],
      "execution_count": 8,
      "outputs": [
        {
          "output_type": "stream",
          "text": [
            "Epoch 1/50\n",
            "100/100 - 26s - loss: 0.6937 - accuracy: 0.5120 - val_loss: 0.6849 - val_accuracy: 0.5760\n",
            "Epoch 2/50\n",
            "100/100 - 26s - loss: 0.6821 - accuracy: 0.5455 - val_loss: 0.6755 - val_accuracy: 0.5620\n",
            "Epoch 3/50\n",
            "100/100 - 26s - loss: 0.6668 - accuracy: 0.5900 - val_loss: 0.6729 - val_accuracy: 0.5450\n",
            "Epoch 4/50\n",
            "100/100 - 27s - loss: 0.6645 - accuracy: 0.5860 - val_loss: 0.6665 - val_accuracy: 0.5740\n",
            "Epoch 5/50\n",
            "100/100 - 26s - loss: 0.6499 - accuracy: 0.6010 - val_loss: 0.6208 - val_accuracy: 0.6690\n",
            "Epoch 6/50\n",
            "100/100 - 26s - loss: 0.6406 - accuracy: 0.6220 - val_loss: 0.6189 - val_accuracy: 0.6560\n",
            "Epoch 7/50\n",
            "100/100 - 26s - loss: 0.6330 - accuracy: 0.6375 - val_loss: 0.6043 - val_accuracy: 0.6680\n",
            "Epoch 8/50\n",
            "100/100 - 26s - loss: 0.6074 - accuracy: 0.6715 - val_loss: 0.5978 - val_accuracy: 0.6780\n",
            "Epoch 9/50\n",
            "100/100 - 26s - loss: 0.6038 - accuracy: 0.6705 - val_loss: 0.5829 - val_accuracy: 0.6650\n",
            "Epoch 10/50\n",
            "100/100 - 26s - loss: 0.5954 - accuracy: 0.6825 - val_loss: 0.5907 - val_accuracy: 0.6690\n",
            "Epoch 11/50\n",
            "100/100 - 26s - loss: 0.5965 - accuracy: 0.6780 - val_loss: 0.6156 - val_accuracy: 0.6430\n",
            "Epoch 12/50\n",
            "100/100 - 26s - loss: 0.5925 - accuracy: 0.6880 - val_loss: 0.5725 - val_accuracy: 0.6830\n",
            "Epoch 13/50\n",
            "100/100 - 26s - loss: 0.5786 - accuracy: 0.6855 - val_loss: 0.6100 - val_accuracy: 0.6530\n",
            "Epoch 14/50\n",
            "100/100 - 26s - loss: 0.5807 - accuracy: 0.6915 - val_loss: 0.5793 - val_accuracy: 0.6630\n",
            "Epoch 15/50\n",
            "100/100 - 26s - loss: 0.5709 - accuracy: 0.7035 - val_loss: 0.6071 - val_accuracy: 0.6580\n",
            "Epoch 16/50\n",
            "100/100 - 26s - loss: 0.5715 - accuracy: 0.6990 - val_loss: 0.6635 - val_accuracy: 0.6330\n",
            "Epoch 17/50\n",
            "100/100 - 26s - loss: 0.5625 - accuracy: 0.7050 - val_loss: 0.5634 - val_accuracy: 0.6990\n",
            "Epoch 18/50\n",
            "100/100 - 26s - loss: 0.5648 - accuracy: 0.7110 - val_loss: 0.5738 - val_accuracy: 0.6880\n",
            "Epoch 19/50\n",
            "100/100 - 26s - loss: 0.5504 - accuracy: 0.7190 - val_loss: 0.5534 - val_accuracy: 0.7230\n",
            "Epoch 20/50\n",
            "100/100 - 26s - loss: 0.5467 - accuracy: 0.7235 - val_loss: 0.5608 - val_accuracy: 0.7080\n",
            "Epoch 21/50\n",
            "100/100 - 26s - loss: 0.5384 - accuracy: 0.7230 - val_loss: 0.5670 - val_accuracy: 0.7120\n",
            "Epoch 22/50\n",
            "100/100 - 27s - loss: 0.5541 - accuracy: 0.7195 - val_loss: 0.5357 - val_accuracy: 0.7240\n",
            "Epoch 23/50\n",
            "100/100 - 27s - loss: 0.5419 - accuracy: 0.7285 - val_loss: 0.5546 - val_accuracy: 0.7190\n",
            "Epoch 24/50\n",
            "100/100 - 26s - loss: 0.5264 - accuracy: 0.7405 - val_loss: 0.5703 - val_accuracy: 0.7150\n",
            "Epoch 25/50\n",
            "100/100 - 26s - loss: 0.5354 - accuracy: 0.7275 - val_loss: 0.5948 - val_accuracy: 0.6910\n",
            "Epoch 26/50\n",
            "100/100 - 26s - loss: 0.5405 - accuracy: 0.7285 - val_loss: 0.5520 - val_accuracy: 0.7130\n",
            "Epoch 27/50\n",
            "100/100 - 26s - loss: 0.5293 - accuracy: 0.7400 - val_loss: 0.5879 - val_accuracy: 0.6850\n",
            "Epoch 28/50\n",
            "100/100 - 26s - loss: 0.5314 - accuracy: 0.7275 - val_loss: 0.5860 - val_accuracy: 0.6870\n",
            "Epoch 29/50\n",
            "100/100 - 26s - loss: 0.5204 - accuracy: 0.7380 - val_loss: 0.5330 - val_accuracy: 0.7300\n",
            "Epoch 30/50\n",
            "100/100 - 26s - loss: 0.5208 - accuracy: 0.7420 - val_loss: 0.5395 - val_accuracy: 0.7340\n",
            "Epoch 31/50\n",
            "100/100 - 26s - loss: 0.5254 - accuracy: 0.7360 - val_loss: 0.5310 - val_accuracy: 0.7330\n",
            "Epoch 32/50\n",
            "100/100 - 26s - loss: 0.5048 - accuracy: 0.7585 - val_loss: 0.5357 - val_accuracy: 0.7320\n",
            "Epoch 33/50\n",
            "100/100 - 26s - loss: 0.5140 - accuracy: 0.7360 - val_loss: 0.5279 - val_accuracy: 0.7410\n",
            "Epoch 34/50\n",
            "100/100 - 26s - loss: 0.4905 - accuracy: 0.7665 - val_loss: 0.5431 - val_accuracy: 0.7310\n",
            "Epoch 35/50\n",
            "100/100 - 26s - loss: 0.5051 - accuracy: 0.7615 - val_loss: 0.5303 - val_accuracy: 0.7320\n",
            "Epoch 36/50\n",
            "100/100 - 26s - loss: 0.4889 - accuracy: 0.7675 - val_loss: 0.5568 - val_accuracy: 0.7060\n",
            "Epoch 37/50\n",
            "100/100 - 26s - loss: 0.5043 - accuracy: 0.7545 - val_loss: 0.5215 - val_accuracy: 0.7430\n",
            "Epoch 38/50\n",
            "100/100 - 26s - loss: 0.4865 - accuracy: 0.7675 - val_loss: 0.5355 - val_accuracy: 0.7270\n",
            "Epoch 39/50\n",
            "100/100 - 26s - loss: 0.4875 - accuracy: 0.7595 - val_loss: 0.4992 - val_accuracy: 0.7410\n",
            "Epoch 40/50\n",
            "100/100 - 26s - loss: 0.4871 - accuracy: 0.7630 - val_loss: 0.5396 - val_accuracy: 0.7180\n",
            "Epoch 41/50\n",
            "100/100 - 27s - loss: 0.4888 - accuracy: 0.7560 - val_loss: 0.5137 - val_accuracy: 0.7620\n",
            "Epoch 42/50\n",
            "100/100 - 26s - loss: 0.4733 - accuracy: 0.7675 - val_loss: 0.5137 - val_accuracy: 0.7420\n",
            "Epoch 43/50\n",
            "100/100 - 26s - loss: 0.4901 - accuracy: 0.7630 - val_loss: 0.5147 - val_accuracy: 0.7500\n",
            "Epoch 44/50\n",
            "100/100 - 26s - loss: 0.4810 - accuracy: 0.7680 - val_loss: 0.5113 - val_accuracy: 0.7410\n",
            "Epoch 45/50\n",
            "100/100 - 26s - loss: 0.4660 - accuracy: 0.7785 - val_loss: 0.4904 - val_accuracy: 0.7590\n",
            "Epoch 46/50\n",
            "100/100 - 26s - loss: 0.4725 - accuracy: 0.7740 - val_loss: 0.6118 - val_accuracy: 0.6950\n",
            "Epoch 47/50\n",
            "100/100 - 26s - loss: 0.4767 - accuracy: 0.7735 - val_loss: 0.5172 - val_accuracy: 0.7560\n",
            "Epoch 48/50\n",
            "100/100 - 26s - loss: 0.4603 - accuracy: 0.7855 - val_loss: 0.5480 - val_accuracy: 0.7320\n",
            "Epoch 49/50\n",
            "100/100 - 26s - loss: 0.4782 - accuracy: 0.7645 - val_loss: 0.5107 - val_accuracy: 0.7510\n",
            "Epoch 50/50\n",
            "100/100 - 26s - loss: 0.4730 - accuracy: 0.7620 - val_loss: 0.5110 - val_accuracy: 0.7480\n"
          ],
          "name": "stdout"
        }
      ]
    },
    {
      "cell_type": "code",
      "metadata": {
        "id": "013UaNAVVyX1",
        "colab_type": "code",
        "colab": {
          "base_uri": "https://localhost:8080/",
          "height": 545
        },
        "outputId": "96301fc4-352f-4ab9-8ff6-5a394c8ea310"
      },
      "source": [
        "import matplotlib.pyplot as plt\n",
        "acc = history.history['accuracy']\n",
        "val_acc = history.history['val_accuracy']\n",
        "loss = history.history['loss']\n",
        "val_loss = history.history['val_loss']\n",
        "\n",
        "epochs = range(len(acc))\n",
        "\n",
        "plt.plot(epochs, acc, 'bo', label='Training accuracy')\n",
        "plt.plot(epochs, val_acc, 'b', label='Validation accuracy')\n",
        "plt.title('Training and validation accuracy')\n",
        "\n",
        "plt.figure()\n",
        "\n",
        "plt.plot(epochs, loss, 'bo', label='Training Loss')\n",
        "plt.plot(epochs, val_loss, 'b', label='Validation Loss')\n",
        "plt.title('Training and validation loss')\n",
        "plt.legend()\n",
        "\n",
        "plt.show()"
      ],
      "execution_count": 9,
      "outputs": [
        {
          "output_type": "display_data",
          "data": {
            "image/png": "[encoded data removed]",
            "text/plain": [
              "<Figure size 432x288 with 1 Axes>"
            ]
          },
          "metadata": {
            "tags": [],
            "needs_background": "light"
          }
        },
        {
          "output_type": "display_data",
          "data": {
            "image/png": "[encoded data removed]",
            "text/plain": [
              "<Figure size 432x288 with 1 Axes>"
            ]
          },
          "metadata": {
            "tags": [],
            "needs_background": "light"
          }
        }
      ]
    },
    {
      "cell_type": "code",
      "metadata": {
        "id": "d3q-aiZCbORT",
        "colab_type": "code",
        "colab": {}
      },
      "source": [
        ""
      ],
      "execution_count": null,
      "outputs": []
    }
  ]
}